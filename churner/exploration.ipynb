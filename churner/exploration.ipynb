{
 "cells": [
  {
   "cell_type": "markdown",
   "id": "0eb52901",
   "metadata": {},
   "source": [
    "# Prédiction de churn dans les télécoms"
   ]
  },
  {
   "cell_type": "code",
   "execution_count": 1,
   "id": "7efeb375",
   "metadata": {},
   "outputs": [],
   "source": [
    "%load_ext autoreload\n",
    "%autoreload 2"
   ]
  },
  {
   "cell_type": "code",
   "execution_count": 2,
   "id": "197eff7b",
   "metadata": {},
   "outputs": [],
   "source": [
    "# Importer les librairies\n",
    "import os\n",
    "import optuna\n",
    "import yaml\n",
    "import pickle\n",
    "import pandas as pd\n",
    "import numpy as np\n",
    "import sklearn\n",
    "from functools import partial\n",
    "from xgboost import XGBClassifier\n",
    "from sklearn.tree import DecisionTreeClassifier\n",
    "from sklearn.ensemble import RandomForestClassifier\n",
    "import seaborn as sns\n",
    "import matplotlib.pyplot as plt\n",
    "from sklearn.model_selection import StratifiedKFold\n",
    "from sklearn.calibration import CalibratedClassifierCV, calibration_curve\n",
    "from ml.utils import (loader, \n",
    "                      splitter, \n",
    "                      formater, \n",
    "                      nan_replacer, \n",
    "                      encoder, \n",
    "                      preprocessor, \n",
    "                      custom_cross_val_score, \n",
    "                      objective)"
   ]
  },
  {
   "cell_type": "code",
   "execution_count": 3,
   "id": "f03f4123",
   "metadata": {},
   "outputs": [],
   "source": [
    "# Paramètres\n",
    "config_path = \"/Users/bguedou/atut/churner/config.yaml\""
   ]
  },
  {
   "cell_type": "code",
   "execution_count": 4,
   "id": "8d1f1454",
   "metadata": {},
   "outputs": [],
   "source": [
    "with open(config_path, 'r') as file:\n",
    "    config = yaml.safe_load(file)"
   ]
  },
  {
   "cell_type": "code",
   "execution_count": 5,
   "id": "81cdf4c8",
   "metadata": {},
   "outputs": [
    {
     "data": {
      "text/plain": [
       "42"
      ]
     },
     "execution_count": 5,
     "metadata": {},
     "output_type": "execute_result"
    }
   ],
   "source": [
    "config['seed']"
   ]
  },
  {
   "cell_type": "code",
   "execution_count": 6,
   "id": "fd1711eb",
   "metadata": {},
   "outputs": [
    {
     "name": "stdout",
     "output_type": "stream",
     "text": [
      "Le jeu de données a 7043 lignes et 21 colonnes ou variables.\n",
      "\n",
      "\n",
      "Les colonnes du jeu de données sont: \n",
      "\n",
      " customerID, gender, SeniorCitizen, Partner, Dependents, tenure, PhoneService, MultipleLines, InternetService, OnlineSecurity, OnlineBackup, DeviceProtection, TechSupport, StreamingTV, StreamingMovies, Contract, PaperlessBilling, PaymentMethod, MonthlyCharges, TotalCharges, Churn\n"
     ]
    }
   ],
   "source": [
    "# Charger le jeu de données\n",
    "df = loader(config['data']['datapath'])\n",
    "print(\"Le jeu de données a {} lignes et {} colonnes ou variables.\".format(*df.shape))\n",
    "print(\"\\n\")\n",
    "print(\"Les colonnes du jeu de données sont: \\n\\n\", \", \".join(df.columns))"
   ]
  },
  {
   "cell_type": "code",
   "execution_count": 7,
   "id": "e28db737",
   "metadata": {},
   "outputs": [
    {
     "data": {
      "text/html": [
       "<div>\n",
       "<style scoped>\n",
       "    .dataframe tbody tr th:only-of-type {\n",
       "        vertical-align: middle;\n",
       "    }\n",
       "\n",
       "    .dataframe tbody tr th {\n",
       "        vertical-align: top;\n",
       "    }\n",
       "\n",
       "    .dataframe thead th {\n",
       "        text-align: right;\n",
       "    }\n",
       "</style>\n",
       "<table border=\"1\" class=\"dataframe\">\n",
       "  <thead>\n",
       "    <tr style=\"text-align: right;\">\n",
       "      <th></th>\n",
       "      <th>customerID</th>\n",
       "      <th>gender</th>\n",
       "      <th>SeniorCitizen</th>\n",
       "      <th>Partner</th>\n",
       "      <th>Dependents</th>\n",
       "      <th>tenure</th>\n",
       "      <th>PhoneService</th>\n",
       "      <th>MultipleLines</th>\n",
       "      <th>InternetService</th>\n",
       "      <th>OnlineSecurity</th>\n",
       "      <th>...</th>\n",
       "      <th>DeviceProtection</th>\n",
       "      <th>TechSupport</th>\n",
       "      <th>StreamingTV</th>\n",
       "      <th>StreamingMovies</th>\n",
       "      <th>Contract</th>\n",
       "      <th>PaperlessBilling</th>\n",
       "      <th>PaymentMethod</th>\n",
       "      <th>MonthlyCharges</th>\n",
       "      <th>TotalCharges</th>\n",
       "      <th>Churn</th>\n",
       "    </tr>\n",
       "  </thead>\n",
       "  <tbody>\n",
       "    <tr>\n",
       "      <th>0</th>\n",
       "      <td>7590-VHVEG</td>\n",
       "      <td>Female</td>\n",
       "      <td>0</td>\n",
       "      <td>Yes</td>\n",
       "      <td>No</td>\n",
       "      <td>1</td>\n",
       "      <td>No</td>\n",
       "      <td>No phone service</td>\n",
       "      <td>DSL</td>\n",
       "      <td>No</td>\n",
       "      <td>...</td>\n",
       "      <td>No</td>\n",
       "      <td>No</td>\n",
       "      <td>No</td>\n",
       "      <td>No</td>\n",
       "      <td>Month-to-month</td>\n",
       "      <td>Yes</td>\n",
       "      <td>Electronic check</td>\n",
       "      <td>29.85</td>\n",
       "      <td>29.85</td>\n",
       "      <td>No</td>\n",
       "    </tr>\n",
       "    <tr>\n",
       "      <th>1</th>\n",
       "      <td>5575-GNVDE</td>\n",
       "      <td>Male</td>\n",
       "      <td>0</td>\n",
       "      <td>No</td>\n",
       "      <td>No</td>\n",
       "      <td>34</td>\n",
       "      <td>Yes</td>\n",
       "      <td>No</td>\n",
       "      <td>DSL</td>\n",
       "      <td>Yes</td>\n",
       "      <td>...</td>\n",
       "      <td>Yes</td>\n",
       "      <td>No</td>\n",
       "      <td>No</td>\n",
       "      <td>No</td>\n",
       "      <td>One year</td>\n",
       "      <td>No</td>\n",
       "      <td>Mailed check</td>\n",
       "      <td>56.95</td>\n",
       "      <td>1889.5</td>\n",
       "      <td>No</td>\n",
       "    </tr>\n",
       "  </tbody>\n",
       "</table>\n",
       "<p>2 rows × 21 columns</p>\n",
       "</div>"
      ],
      "text/plain": [
       "   customerID  gender  SeniorCitizen Partner Dependents  tenure PhoneService  \\\n",
       "0  7590-VHVEG  Female              0     Yes         No       1           No   \n",
       "1  5575-GNVDE    Male              0      No         No      34          Yes   \n",
       "\n",
       "      MultipleLines InternetService OnlineSecurity  ... DeviceProtection  \\\n",
       "0  No phone service             DSL             No  ...               No   \n",
       "1                No             DSL            Yes  ...              Yes   \n",
       "\n",
       "  TechSupport StreamingTV StreamingMovies        Contract PaperlessBilling  \\\n",
       "0          No          No              No  Month-to-month              Yes   \n",
       "1          No          No              No        One year               No   \n",
       "\n",
       "      PaymentMethod MonthlyCharges  TotalCharges Churn  \n",
       "0  Electronic check          29.85         29.85    No  \n",
       "1      Mailed check          56.95        1889.5    No  \n",
       "\n",
       "[2 rows x 21 columns]"
      ]
     },
     "execution_count": 7,
     "metadata": {},
     "output_type": "execute_result"
    }
   ],
   "source": [
    "df.head(2)"
   ]
  },
  {
   "cell_type": "code",
   "execution_count": 8,
   "id": "90caccd6",
   "metadata": {},
   "outputs": [],
   "source": [
    "# Séparer le jeu d'entrainement, le jeu de validation et le jeu de test\n",
    "\n",
    "df_train, df_test = splitter(df,\n",
    "                             config['data']['categorical'],\n",
    "                             config['data']['numerical'], \n",
    "                             config['data']['label'],\n",
    "                             seed=42,\n",
    "                             percentage=0.3)\n",
    "\n",
    "df_test, df_cal = splitter(df_test,\n",
    "                             config['data']['categorical'],\n",
    "                             config['data']['numerical'], \n",
    "                             config['data']['label'],\n",
    "                             seed=42,\n",
    "                             percentage=0.5)\n",
    "\n",
    "df_train_base = df_train.copy()"
   ]
  },
  {
   "cell_type": "code",
   "execution_count": 9,
   "id": "a40c8142",
   "metadata": {},
   "outputs": [
    {
     "data": {
      "text/plain": [
       "(4930, 20)"
      ]
     },
     "execution_count": 9,
     "metadata": {},
     "output_type": "execute_result"
    }
   ],
   "source": [
    "df_train.shape"
   ]
  },
  {
   "cell_type": "code",
   "execution_count": 10,
   "id": "49d8c794",
   "metadata": {},
   "outputs": [
    {
     "data": {
      "text/plain": [
       "(1056, 20)"
      ]
     },
     "execution_count": 10,
     "metadata": {},
     "output_type": "execute_result"
    }
   ],
   "source": [
    "df_test.shape"
   ]
  },
  {
   "cell_type": "code",
   "execution_count": 11,
   "id": "752a28d0",
   "metadata": {},
   "outputs": [],
   "source": [
    "# Remplacement des valeurs symbols par nan\n",
    "df_train = nan_replacer(df_train, list_variables=config['data']['numerical'], list_symbols=[\" \"])\n",
    "# Conversion des variables numériques au bon format\n",
    "df_train = formater(df_train, list_variables=config['data']['numerical'], new_type='float32')\n",
    "# Conversion des variables catégorielles au bon format\n",
    "df_train = formater(df_train, list_variables=config['data']['categorical'], new_type='object')"
   ]
  },
  {
   "cell_type": "markdown",
   "id": "1c3ae6be",
   "metadata": {},
   "source": [
    "#### 1 - Echelle des variables numériques"
   ]
  },
  {
   "cell_type": "code",
   "execution_count": 12,
   "id": "7a0086ba",
   "metadata": {},
   "outputs": [
    {
     "data": {
      "image/png": "[encoded data removed]",
      "text/plain": [
       "<Figure size 576x432 with 1 Axes>"
      ]
     },
     "metadata": {
      "needs_background": "light"
     },
     "output_type": "display_data"
    }
   ],
   "source": [
    "plt.figure(figsize=(8, 6))\n",
    "plt.title(\"Plage des valeurs des variables numériques\")\n",
    "graph = sns.boxplot(data=df_train[config['data']['numerical']],  width=0.3, palette=[\"#FFC312\", \"#F79F1F\", \"#EE5A24\"]);\n",
    "sns.despine(offset=5, trim=True)\n",
    "plt.show()"
   ]
  },
  {
   "cell_type": "markdown",
   "id": "173ecdf3",
   "metadata": {},
   "source": [
    "<div style=\"color: blue\"> Conclusion: <div/>\n",
    "<p style=\"color: black\"> Le graphique nous montre que TotalCharges a une plus grande amplitude de valeurs que les autres variables numériques. Ce qui montre la nécessité de normaliser les variables numériques pour les mettre à la même échelle en fonction de l'algorithme choisi. </p>"
   ]
  },
  {
   "cell_type": "markdown",
   "id": "78034d6a",
   "metadata": {},
   "source": [
    "#### 2 - Doublons et valeurs manquantes"
   ]
  },
  {
   "cell_type": "code",
   "execution_count": 13,
   "id": "ae614934",
   "metadata": {},
   "outputs": [],
   "source": [
    "# Suppression des doublons\n",
    "df_train.drop_duplicates(inplace=True)"
   ]
  },
  {
   "cell_type": "code",
   "execution_count": 14,
   "id": "2dc10bcc",
   "metadata": {},
   "outputs": [
    {
     "data": {
      "text/plain": [
       "(4921, 20)"
      ]
     },
     "execution_count": 14,
     "metadata": {},
     "output_type": "execute_result"
    }
   ],
   "source": [
    "df_train.shape"
   ]
  },
  {
   "cell_type": "code",
   "execution_count": 15,
   "id": "92fc7010",
   "metadata": {},
   "outputs": [
    {
     "name": "stdout",
     "output_type": "stream",
     "text": [
      "- Pour la variable TotalCharges le pourcentage de valeurs manquantes est: 0.142 %\n"
     ]
    }
   ],
   "source": [
    "# Valeurs manquantes\n",
    "values = (100 * df_train.isnull().sum() / df_train.shape[0]).values\n",
    "filter_ = values > 0\n",
    "var_names = (100 * df_train.isnull().sum()/df_train.shape[0]).index\n",
    "var_names = var_names[filter_]\n",
    "values = values[filter_]\n",
    "\n",
    "for (var, val) in zip(var_names.tolist(), values):\n",
    "    print(\"- Pour la variable {} le pourcentage de valeurs manquantes est: {} %\".format(var, round(val, 3)))"
   ]
  },
  {
   "cell_type": "markdown",
   "id": "151e08d3",
   "metadata": {},
   "source": [
    "<div style=\"color: blue\"> Conclusion: <div/>\n",
    "<p style=\"color: black\"> La seule variable ayant des données manquantes est TotalCharges. Nous décidons donc de l'imputer par la valeur médiane </p>"
   ]
  },
  {
   "cell_type": "markdown",
   "id": "b584ef44",
   "metadata": {},
   "source": [
    "#### 3 - Analyses univariées"
   ]
  },
  {
   "cell_type": "code",
   "execution_count": 16,
   "id": "b845e82a",
   "metadata": {},
   "outputs": [
    {
     "data": {
      "text/html": [
       "<div>\n",
       "<style scoped>\n",
       "    .dataframe tbody tr th:only-of-type {\n",
       "        vertical-align: middle;\n",
       "    }\n",
       "\n",
       "    .dataframe tbody tr th {\n",
       "        vertical-align: top;\n",
       "    }\n",
       "\n",
       "    .dataframe thead th {\n",
       "        text-align: right;\n",
       "    }\n",
       "</style>\n",
       "<table border=\"1\" class=\"dataframe\">\n",
       "  <thead>\n",
       "    <tr style=\"text-align: right;\">\n",
       "      <th></th>\n",
       "      <th>tenure</th>\n",
       "      <th>MonthlyCharges</th>\n",
       "      <th>TotalCharges</th>\n",
       "    </tr>\n",
       "  </thead>\n",
       "  <tbody>\n",
       "    <tr>\n",
       "      <th>count</th>\n",
       "      <td>4921.000000</td>\n",
       "      <td>4921.000000</td>\n",
       "      <td>4914.000000</td>\n",
       "    </tr>\n",
       "    <tr>\n",
       "      <th>mean</th>\n",
       "      <td>32.528755</td>\n",
       "      <td>64.996788</td>\n",
       "      <td>2309.219971</td>\n",
       "    </tr>\n",
       "    <tr>\n",
       "      <th>std</th>\n",
       "      <td>24.632065</td>\n",
       "      <td>30.236048</td>\n",
       "      <td>2292.595947</td>\n",
       "    </tr>\n",
       "    <tr>\n",
       "      <th>min</th>\n",
       "      <td>0.000000</td>\n",
       "      <td>18.400000</td>\n",
       "      <td>18.850000</td>\n",
       "    </tr>\n",
       "    <tr>\n",
       "      <th>25%</th>\n",
       "      <td>9.000000</td>\n",
       "      <td>35.599998</td>\n",
       "      <td>402.662506</td>\n",
       "    </tr>\n",
       "    <tr>\n",
       "      <th>50%</th>\n",
       "      <td>29.000000</td>\n",
       "      <td>70.599998</td>\n",
       "      <td>1391.000000</td>\n",
       "    </tr>\n",
       "    <tr>\n",
       "      <th>75%</th>\n",
       "      <td>56.000000</td>\n",
       "      <td>90.050003</td>\n",
       "      <td>3865.562500</td>\n",
       "    </tr>\n",
       "    <tr>\n",
       "      <th>max</th>\n",
       "      <td>72.000000</td>\n",
       "      <td>118.750000</td>\n",
       "      <td>8684.799805</td>\n",
       "    </tr>\n",
       "  </tbody>\n",
       "</table>\n",
       "</div>"
      ],
      "text/plain": [
       "            tenure  MonthlyCharges  TotalCharges\n",
       "count  4921.000000     4921.000000   4914.000000\n",
       "mean     32.528755       64.996788   2309.219971\n",
       "std      24.632065       30.236048   2292.595947\n",
       "min       0.000000       18.400000     18.850000\n",
       "25%       9.000000       35.599998    402.662506\n",
       "50%      29.000000       70.599998   1391.000000\n",
       "75%      56.000000       90.050003   3865.562500\n",
       "max      72.000000      118.750000   8684.799805"
      ]
     },
     "execution_count": 16,
     "metadata": {},
     "output_type": "execute_result"
    }
   ],
   "source": [
    "# Variables numériques\n",
    "df_train[config['data']['numerical']].describe()"
   ]
  },
  {
   "cell_type": "code",
   "execution_count": 17,
   "id": "cc7236ea",
   "metadata": {},
   "outputs": [
    {
     "data": {
      "text/html": [
       "<div>\n",
       "<style scoped>\n",
       "    .dataframe tbody tr th:only-of-type {\n",
       "        vertical-align: middle;\n",
       "    }\n",
       "\n",
       "    .dataframe tbody tr th {\n",
       "        vertical-align: top;\n",
       "    }\n",
       "\n",
       "    .dataframe thead th {\n",
       "        text-align: right;\n",
       "    }\n",
       "</style>\n",
       "<table border=\"1\" class=\"dataframe\">\n",
       "  <thead>\n",
       "    <tr style=\"text-align: right;\">\n",
       "      <th></th>\n",
       "      <th>gender</th>\n",
       "      <th>SeniorCitizen</th>\n",
       "      <th>Partner</th>\n",
       "      <th>Dependents</th>\n",
       "      <th>PhoneService</th>\n",
       "      <th>MultipleLines</th>\n",
       "      <th>InternetService</th>\n",
       "      <th>OnlineSecurity</th>\n",
       "      <th>OnlineBackup</th>\n",
       "      <th>DeviceProtection</th>\n",
       "      <th>TechSupport</th>\n",
       "      <th>StreamingTV</th>\n",
       "      <th>StreamingMovies</th>\n",
       "      <th>Contract</th>\n",
       "      <th>PaperlessBilling</th>\n",
       "      <th>PaymentMethod</th>\n",
       "    </tr>\n",
       "  </thead>\n",
       "  <tbody>\n",
       "    <tr>\n",
       "      <th>count</th>\n",
       "      <td>4921</td>\n",
       "      <td>4921</td>\n",
       "      <td>4921</td>\n",
       "      <td>4921</td>\n",
       "      <td>4921</td>\n",
       "      <td>4921</td>\n",
       "      <td>4921</td>\n",
       "      <td>4921</td>\n",
       "      <td>4921</td>\n",
       "      <td>4921</td>\n",
       "      <td>4921</td>\n",
       "      <td>4921</td>\n",
       "      <td>4921</td>\n",
       "      <td>4921</td>\n",
       "      <td>4921</td>\n",
       "      <td>4921</td>\n",
       "    </tr>\n",
       "    <tr>\n",
       "      <th>unique</th>\n",
       "      <td>2</td>\n",
       "      <td>2</td>\n",
       "      <td>2</td>\n",
       "      <td>2</td>\n",
       "      <td>2</td>\n",
       "      <td>3</td>\n",
       "      <td>3</td>\n",
       "      <td>3</td>\n",
       "      <td>3</td>\n",
       "      <td>3</td>\n",
       "      <td>3</td>\n",
       "      <td>3</td>\n",
       "      <td>3</td>\n",
       "      <td>3</td>\n",
       "      <td>2</td>\n",
       "      <td>4</td>\n",
       "    </tr>\n",
       "    <tr>\n",
       "      <th>top</th>\n",
       "      <td>Male</td>\n",
       "      <td>0</td>\n",
       "      <td>No</td>\n",
       "      <td>No</td>\n",
       "      <td>Yes</td>\n",
       "      <td>No</td>\n",
       "      <td>Fiber optic</td>\n",
       "      <td>No</td>\n",
       "      <td>No</td>\n",
       "      <td>No</td>\n",
       "      <td>No</td>\n",
       "      <td>Yes</td>\n",
       "      <td>Yes</td>\n",
       "      <td>Month-to-month</td>\n",
       "      <td>Yes</td>\n",
       "      <td>Electronic check</td>\n",
       "    </tr>\n",
       "    <tr>\n",
       "      <th>freq</th>\n",
       "      <td>2472</td>\n",
       "      <td>4127</td>\n",
       "      <td>2549</td>\n",
       "      <td>3454</td>\n",
       "      <td>4425</td>\n",
       "      <td>2338</td>\n",
       "      <td>2174</td>\n",
       "      <td>2435</td>\n",
       "      <td>2138</td>\n",
       "      <td>2136</td>\n",
       "      <td>2407</td>\n",
       "      <td>1941</td>\n",
       "      <td>1931</td>\n",
       "      <td>2695</td>\n",
       "      <td>2915</td>\n",
       "      <td>1651</td>\n",
       "    </tr>\n",
       "  </tbody>\n",
       "</table>\n",
       "</div>"
      ],
      "text/plain": [
       "       gender  SeniorCitizen Partner Dependents PhoneService MultipleLines  \\\n",
       "count    4921           4921    4921       4921         4921          4921   \n",
       "unique      2              2       2          2            2             3   \n",
       "top      Male              0      No         No          Yes            No   \n",
       "freq     2472           4127    2549       3454         4425          2338   \n",
       "\n",
       "       InternetService OnlineSecurity OnlineBackup DeviceProtection  \\\n",
       "count             4921           4921         4921             4921   \n",
       "unique               3              3            3                3   \n",
       "top        Fiber optic             No           No               No   \n",
       "freq              2174           2435         2138             2136   \n",
       "\n",
       "       TechSupport StreamingTV StreamingMovies        Contract  \\\n",
       "count         4921        4921            4921            4921   \n",
       "unique           3           3               3               3   \n",
       "top             No         Yes             Yes  Month-to-month   \n",
       "freq          2407        1941            1931            2695   \n",
       "\n",
       "       PaperlessBilling     PaymentMethod  \n",
       "count              4921              4921  \n",
       "unique                2                 4  \n",
       "top                 Yes  Electronic check  \n",
       "freq               2915              1651  "
      ]
     },
     "execution_count": 17,
     "metadata": {},
     "output_type": "execute_result"
    }
   ],
   "source": [
    "# Vraibales catégorielles\n",
    "df_train[config['data']['categorical']].describe()"
   ]
  },
  {
   "cell_type": "markdown",
   "id": "a1bfcabc",
   "metadata": {},
   "source": [
    "#### 4 - Analyse bi-variée avec la variable cible"
   ]
  },
  {
   "cell_type": "code",
   "execution_count": 18,
   "id": "256cf204",
   "metadata": {},
   "outputs": [
    {
     "data": {
      "image/png": "[encoded data removed]",
      "text/plain": [
       "<Figure size 504x432 with 1 Axes>"
      ]
     },
     "metadata": {
      "needs_background": "light"
     },
     "output_type": "display_data"
    }
   ],
   "source": [
    "# Genre et Churn\n",
    "plt.figure(figsize=(7, 6))\n",
    "plt.title(\"Proportion de churn en fonction du genre\" )\n",
    "ax = sns.countplot(x=\"gender\", hue=\"Churn\", data=df_train, palette=[\"#4cd137\",\"#e84118\"])\n",
    "sns.despine(left=True)\n",
    "plt.show()"
   ]
  },
  {
   "cell_type": "markdown",
   "id": "b5f3efe5",
   "metadata": {},
   "source": [
    "<div style=\"color: blue\"> Conclusion: <div/>\n",
    "<p style=\"color: black\"> L'attrition du client ne semble pas dépendre de son genre. Nous pouvons le confirmer avec un test du chi2 et supprimer la variable genre au besoin.</p>"
   ]
  },
  {
   "cell_type": "code",
   "execution_count": 19,
   "id": "8710ca49",
   "metadata": {},
   "outputs": [
    {
     "data": {
      "image/png": "[encoded data removed]",
      "text/plain": [
       "<Figure size 576x432 with 1 Axes>"
      ]
     },
     "metadata": {
      "needs_background": "light"
     },
     "output_type": "display_data"
    }
   ],
   "source": [
    "# MonthlyCharges et Churn\n",
    "\n",
    "plt.figure(figsize=(8, 6))\n",
    "plt.title(\"Montant des charges mensuelles en fonction de l'attrition du client.\")\n",
    "graph = sns.boxplot(data=df_train, x=\"Churn\", y=df_train['MonthlyCharges'],  width=0.3, palette=[\"#4cd137\",\"#e84118\"]);\n",
    "sns.despine(offset=5, trim=True)\n",
    "plt.show()"
   ]
  },
  {
   "cell_type": "markdown",
   "id": "6f9e3fba",
   "metadata": {},
   "source": [
    "<div style=\"color: blue\"> Conclusion: <div/>\n",
    "<p style=\"color: black\"> Il semblerait que plus le montant de charges mensuelles augmentes plus le client a de chances de quitter l'entreprise.</p>"
   ]
  },
  {
   "cell_type": "code",
   "execution_count": 20,
   "id": "1ad993a0",
   "metadata": {},
   "outputs": [
    {
     "data": {
      "image/png": "[encoded data removed]",
      "text/plain": [
       "<Figure size 576x432 with 1 Axes>"
      ]
     },
     "metadata": {
      "needs_background": "light"
     },
     "output_type": "display_data"
    }
   ],
   "source": [
    "# TotalCharges et Churn\n",
    "\n",
    "plt.figure(figsize=(8, 6))\n",
    "plt.title(\"Montant des charges totales en fonction de l'attrition du client.\")\n",
    "graph = sns.boxplot(data=df_train, x=\"Churn\", y=df_train['TotalCharges'],  width=0.3, palette=[\"#4cd137\",\"#e84118\"]);\n",
    "sns.despine(offset=5, trim=True)\n",
    "plt.show()"
   ]
  },
  {
   "cell_type": "markdown",
   "id": "2e521b46",
   "metadata": {},
   "source": [
    "<div style=\"color: blue\"> Conclusion: <div/>\n",
    "<p style=\"color: black\">Les clients qui quittent l'entreprise, semblent avoir des montants de charges totales plus bas.</p>"
   ]
  },
  {
   "cell_type": "code",
   "execution_count": 21,
   "id": "927ba09a",
   "metadata": {},
   "outputs": [
    {
     "data": {
      "image/png": "[encoded data removed]",
      "text/plain": [
       "<Figure size 576x432 with 1 Axes>"
      ]
     },
     "metadata": {
      "needs_background": "light"
     },
     "output_type": "display_data"
    }
   ],
   "source": [
    "# Tenure et Churn\n",
    "\n",
    "plt.figure(figsize=(8, 6))\n",
    "plt.title(\"Nombre de mois d'ancienneté en fonction de l'attrition du client.\")\n",
    "graph = sns.boxplot(data=df_train, x=\"Churn\", y=df_train['tenure'],  width=0.3, palette=[\"#4cd137\",\"#e84118\"]);\n",
    "sns.despine(offset=5, trim=True)\n",
    "plt.show()"
   ]
  },
  {
   "cell_type": "markdown",
   "id": "3e363d46",
   "metadata": {},
   "source": [
    "<div style=\"color: blue\"> Conclusion: <div/>\n",
    "<p style=\"color: black\">Les clients les plus anciens semblent les plus fidèles que les nouveaux  .</p>"
   ]
  },
  {
   "cell_type": "markdown",
   "id": "2ce62d2f",
   "metadata": {},
   "source": [
    "#### 5 - Modélisation"
   ]
  },
  {
   "cell_type": "code",
   "execution_count": 22,
   "id": "ac6bc056",
   "metadata": {},
   "outputs": [
    {
     "name": "stdout",
     "output_type": "stream",
     "text": [
      "======= L'encodage des variables catégorielles est terminée ! =======\n",
      "CPU times: user 47.7 ms, sys: 4.63 ms, total: 52.3 ms\n",
      "Wall time: 63.2 ms\n"
     ]
    }
   ],
   "source": [
    "%%time\n",
    "\n",
    "# Pré-traitements sur le jeu d'entraînement \n",
    "X, y = preprocessor(df_train_base, config, option_train=None, option_output=None)"
   ]
  },
  {
   "cell_type": "markdown",
   "id": "822be99b",
   "metadata": {},
   "source": [
    "A - Arbre de décision"
   ]
  },
  {
   "cell_type": "code",
   "execution_count": 23,
   "id": "8a6708da",
   "metadata": {},
   "outputs": [
    {
     "name": "stdout",
     "output_type": "stream",
     "text": [
      "La performance de notre classifcation sur le jeu de validation est de 65.915 %.\n",
      "CPU times: user 80.7 ms, sys: 1.56 ms, total: 82.2 ms\n",
      "Wall time: 81.4 ms\n"
     ]
    }
   ],
   "source": [
    "%%time\n",
    "# Définition des passes de la cross-validation\n",
    "skf = StratifiedKFold(n_splits=config['model']['k'], \n",
    "                      random_state=config['seed'], \n",
    "                      shuffle=True).split(df_train, \n",
    "                                          df_train[config['data']['label']]\n",
    "                                         )\n",
    "\n",
    "scores = []\n",
    "for train_idx, val_idx in skf:\n",
    "    # Définition du jeu d'entrainement et de validation\n",
    "    # pour la passe courante\n",
    "    X_train = X[train_idx]\n",
    "    y_train = y[train_idx]\n",
    "    X_val = X[val_idx]\n",
    "    y_val = y[val_idx]\n",
    "    # Calcul de la median de la colonne TotalCharges\n",
    "    var_names = config['data']['categorical']+config['data']['numerical']\n",
    "    id_ToCh = var_names.index('TotalCharges')\n",
    "    median = np.nanmedian(X_train[:, id_ToCh])\n",
    "    col_values = X_train[:, id_ToCh]\n",
    "    col_values[np.isnan(col_values)] = median\n",
    "    X_train[:, id_ToCh] = col_values\n",
    "    # Instanciation\n",
    "    tree_clf = DecisionTreeClassifier(random_state=config['seed'])\n",
    "    # Entrainement\n",
    "    tree_clf.fit(X_train, y_train)\n",
    "    # Prediction\n",
    "    col_values = X_val[:, id_ToCh]\n",
    "    col_values[np.isnan(col_values)] = median\n",
    "    X_val[:, id_ToCh] = col_values\n",
    "    y_val_pred = tree_clf.predict(X_val)\n",
    "    # Métrique ou performance\n",
    "    score = sklearn.metrics.roc_auc_score(y_val, y_val_pred)\n",
    "    scores.append(score)\n",
    "\n",
    "print(\"La performance de notre classifcation sur le jeu de validation est de {} %.\".format(round(np.mean(scores)*100, 3)))\n"
   ]
  },
  {
   "cell_type": "markdown",
   "id": "4172db80",
   "metadata": {},
   "source": [
    "B - Forêt aléatoire"
   ]
  },
  {
   "cell_type": "code",
   "execution_count": 24,
   "id": "06d79f00",
   "metadata": {},
   "outputs": [
    {
     "name": "stdout",
     "output_type": "stream",
     "text": [
      "La performance de notre classifcation sur le jeu de validation est de 69.325 %.\n",
      "CPU times: user 1.5 s, sys: 14.6 ms, total: 1.51 s\n",
      "Wall time: 1.52 s\n"
     ]
    }
   ],
   "source": [
    "%%time\n",
    "# Définition des passes de la cross-validation\n",
    "skf = StratifiedKFold(n_splits=config['model']['k'], \n",
    "                      random_state=config['seed'], \n",
    "                      shuffle=True).split(df_train, \n",
    "                                          df_train[config['data']['label']]\n",
    "                                         )\n",
    "\n",
    "scores = []\n",
    "for train_idx, val_idx in skf:\n",
    "    # Définition du jeu d'entrainement et de validation\n",
    "    # pour la passe courante\n",
    "    X_train = X[train_idx]\n",
    "    y_train = y[train_idx]\n",
    "    X_val = X[val_idx]\n",
    "    y_val = y[val_idx]\n",
    "    # Calcul de la median de la colonne TotalCharges\n",
    "    var_names = config['data']['categorical']+config['data']['numerical']\n",
    "    id_ToCh = var_names.index('TotalCharges')\n",
    "    median = np.nanmedian(X_train[:, id_ToCh])\n",
    "    col_values = X_train[:, id_ToCh]\n",
    "    col_values[np.isnan(col_values)] = median\n",
    "    X_train[:, id_ToCh] = col_values\n",
    "    # Instanciation\n",
    "    rf_clf = RandomForestClassifier(random_state=config['seed'])\n",
    "    # Entrainement\n",
    "    rf_clf.fit(X_train, y_train)\n",
    "    # Prediction\n",
    "    col_values = X_val[:, id_ToCh]\n",
    "    col_values[np.isnan(col_values)] = median\n",
    "    X_val[:, id_ToCh] = col_values\n",
    "    y_val_pred = rf_clf.predict(X_val)\n",
    "    # Métrique ou performance\n",
    "    score = sklearn.metrics.roc_auc_score(y_val, y_val_pred)\n",
    "    scores.append(score)\n",
    "\n",
    "print(\"La performance de notre classifcation sur le jeu de validation est de {} %.\".format(round(np.mean(scores)*100, 3)))"
   ]
  },
  {
   "cell_type": "markdown",
   "id": "1308b449",
   "metadata": {},
   "source": [
    "C - Gradient Boosting "
   ]
  },
  {
   "cell_type": "code",
   "execution_count": 25,
   "id": "7f8487e0",
   "metadata": {},
   "outputs": [
    {
     "name": "stdout",
     "output_type": "stream",
     "text": [
      "La performance de notre classifcation sur le jeu de validation est de 69.638 %.\n",
      "CPU times: user 8.4 s, sys: 927 ms, total: 9.33 s\n",
      "Wall time: 1.22 s\n"
     ]
    }
   ],
   "source": [
    "%%time\n",
    "# Définition des passes de la cross-validation\n",
    "skf = StratifiedKFold(n_splits=config['model']['k'], \n",
    "                      random_state=config['seed'], \n",
    "                      shuffle=True).split(df_train, \n",
    "                                          df_train[config['data']['label']]\n",
    "                                         )\n",
    "\n",
    "scores = []\n",
    "for train_idx, val_idx in skf:\n",
    "    # Définition du jeu d'entrainement et de validation\n",
    "    # pour la passe courante\n",
    "    X_train = X[train_idx]\n",
    "    y_train = y[train_idx]\n",
    "    X_val = X[val_idx]\n",
    "    y_val = y[val_idx]\n",
    "    # Calcul de la median de la colonne TotalCharges\n",
    "    var_names = config['data']['categorical']+config['data']['numerical']\n",
    "    id_ToCh = var_names.index('TotalCharges')\n",
    "    median = np.nanmedian(X_train[:, id_ToCh])\n",
    "    col_values = X_train[:, id_ToCh]\n",
    "    col_values[np.isnan(col_values)] = median\n",
    "    X_train[:, id_ToCh] = col_values\n",
    "    # Instanciation\n",
    "    xgb_clf = XGBClassifier(random_state=config['seed'],\n",
    "                            use_label_encoder=False,\n",
    "                            eval_metric='auc',\n",
    "                            n_jobs=8)\n",
    "    # Entrainement\n",
    "    xgb_clf.fit(X_train, y_train)\n",
    "    # Prediction\n",
    "    col_values = X_val[:, id_ToCh]\n",
    "    col_values[np.isnan(col_values)] = median\n",
    "    X_val[:, id_ToCh] = col_values\n",
    "    y_val_pred = xgb_clf.predict(X_val)\n",
    "    # Métrique ou performance\n",
    "    score = sklearn.metrics.roc_auc_score(y_val, y_val_pred)\n",
    "    scores.append(score)\n",
    "\n",
    "print(\"La performance de notre classifcation sur le jeu de validation est de {} %.\".format(round(np.mean(scores)*100, 3)))"
   ]
  },
  {
   "cell_type": "markdown",
   "id": "5fa7f3d5",
   "metadata": {},
   "source": [
    "<div style=\"color: blue\"> Conclusion: <div/>\n",
    "<p style=\"color: black\"> Le modèle de XGBOOST est celui qui a en moyenne la meilleure performance sur notre jeu de données donc c'est lui que nous sélectionnons et que nous affinerons dans la suite du projet.</p>"
   ]
  },
  {
   "cell_type": "markdown",
   "id": "68eba46d",
   "metadata": {},
   "source": [
    "D - Tuner les hyper-paramètres"
   ]
  },
  {
   "cell_type": "markdown",
   "id": "655516cd",
   "metadata": {},
   "source": [
    "Tuner les hyper-paramètres d'un modèle revient à rechercher la combinaison des hyper-parmètres qui conduit à la meilleure performance sur notre jeu de validation. "
   ]
  },
  {
   "cell_type": "code",
   "execution_count": 26,
   "id": "37ecb111",
   "metadata": {
    "scrolled": true
   },
   "outputs": [
    {
     "name": "stderr",
     "output_type": "stream",
     "text": [
      "\u001b[32m[I 2022-06-15 13:22:41,433]\u001b[0m A new study created in memory with name: no-name-3f03047c-e960-4b73-bcaf-d92a0efc1606\u001b[0m\n",
      "\u001b[32m[I 2022-06-15 13:22:42,298]\u001b[0m Trial 0 finished with value: 0.7042073546478536 and parameters: {'n_estimators': 67, 'max_depth': 13, 'eta': 0.17852609898403116, 'subsample': 0.2302646911229086}. Best is trial 0 with value: 0.7042073546478536.\u001b[0m\n",
      "\u001b[32m[I 2022-06-15 13:22:43,268]\u001b[0m Trial 1 finished with value: 0.6656908554273789 and parameters: {'n_estimators': 118, 'max_depth': 6, 'eta': 0.6387332206916672, 'subsample': 0.1981342081433446}. Best is trial 0 with value: 0.7042073546478536.\u001b[0m\n",
      "\u001b[32m[I 2022-06-15 13:22:47,071]\u001b[0m Trial 2 finished with value: 0.6785009219183759 and parameters: {'n_estimators': 213, 'max_depth': 11, 'eta': 0.5552507154650244, 'subsample': 0.5498370097504363}. Best is trial 0 with value: 0.7042073546478536.\u001b[0m\n",
      "\u001b[32m[I 2022-06-15 13:22:48,725]\u001b[0m Trial 3 finished with value: 0.6701182826286166 and parameters: {'n_estimators': 103, 'max_depth': 9, 'eta': 0.8313438941435722, 'subsample': 0.5401222333970502}. Best is trial 0 with value: 0.7042073546478536.\u001b[0m\n",
      "\u001b[32m[I 2022-06-15 13:22:53,729]\u001b[0m Trial 4 finished with value: 0.6727011612153457 and parameters: {'n_estimators': 281, 'max_depth': 11, 'eta': 0.6626870694001473, 'subsample': 0.7139412714048039}. Best is trial 0 with value: 0.7042073546478536.\u001b[0m\n"
     ]
    },
    {
     "name": "stdout",
     "output_type": "stream",
     "text": [
      "CPU times: user 1min 22s, sys: 9.42 s, total: 1min 32s\n",
      "Wall time: 12.3 s\n"
     ]
    }
   ],
   "source": [
    "%%time\n",
    "\n",
    "study = optuna.create_study(direction=\"maximize\")\n",
    "\n",
    "study.optimize(partial(objective, config=config, X=X, y=y), n_trials=5)"
   ]
  },
  {
   "cell_type": "code",
   "execution_count": 27,
   "id": "0315e3fd",
   "metadata": {},
   "outputs": [
    {
     "data": {
      "text/plain": [
       "{'n_estimators': 67,\n",
       " 'max_depth': 13,\n",
       " 'eta': 0.17852609898403116,\n",
       " 'subsample': 0.2302646911229086}"
      ]
     },
     "execution_count": 27,
     "metadata": {},
     "output_type": "execute_result"
    }
   ],
   "source": [
    "study.best_params"
   ]
  },
  {
   "cell_type": "markdown",
   "id": "f03171a6",
   "metadata": {},
   "source": [
    "E - Entrainement du modèle final"
   ]
  },
  {
   "cell_type": "code",
   "execution_count": 28,
   "id": "fff2dbd4",
   "metadata": {},
   "outputs": [
    {
     "data": {
      "text/html": [
       "<style>#sk-container-id-1 {color: black;background-color: white;}#sk-container-id-1 pre{padding: 0;}#sk-container-id-1 div.sk-toggleable {background-color: white;}#sk-container-id-1 label.sk-toggleable__label {cursor: pointer;display: block;width: 100%;margin-bottom: 0;padding: 0.3em;box-sizing: border-box;text-align: center;}#sk-container-id-1 label.sk-toggleable__label-arrow:before {content: \"▸\";float: left;margin-right: 0.25em;color: #696969;}#sk-container-id-1 label.sk-toggleable__label-arrow:hover:before {color: black;}#sk-container-id-1 div.sk-estimator:hover label.sk-toggleable__label-arrow:before {color: black;}#sk-container-id-1 div.sk-toggleable__content {max-height: 0;max-width: 0;overflow: hidden;text-align: left;background-color: #f0f8ff;}#sk-container-id-1 div.sk-toggleable__content pre {margin: 0.2em;color: black;border-radius: 0.25em;background-color: #f0f8ff;}#sk-container-id-1 input.sk-toggleable__control:checked~div.sk-toggleable__content {max-height: 200px;max-width: 100%;overflow: auto;}#sk-container-id-1 input.sk-toggleable__control:checked~label.sk-toggleable__label-arrow:before {content: \"▾\";}#sk-container-id-1 div.sk-estimator input.sk-toggleable__control:checked~label.sk-toggleable__label {background-color: #d4ebff;}#sk-container-id-1 div.sk-label input.sk-toggleable__control:checked~label.sk-toggleable__label {background-color: #d4ebff;}#sk-container-id-1 input.sk-hidden--visually {border: 0;clip: rect(1px 1px 1px 1px);clip: rect(1px, 1px, 1px, 1px);height: 1px;margin: -1px;overflow: hidden;padding: 0;position: absolute;width: 1px;}#sk-container-id-1 div.sk-estimator {font-family: monospace;background-color: #f0f8ff;border: 1px dotted black;border-radius: 0.25em;box-sizing: border-box;margin-bottom: 0.5em;}#sk-container-id-1 div.sk-estimator:hover {background-color: #d4ebff;}#sk-container-id-1 div.sk-parallel-item::after {content: \"\";width: 100%;border-bottom: 1px solid gray;flex-grow: 1;}#sk-container-id-1 div.sk-label:hover label.sk-toggleable__label {background-color: #d4ebff;}#sk-container-id-1 div.sk-serial::before {content: \"\";position: absolute;border-left: 1px solid gray;box-sizing: border-box;top: 0;bottom: 0;left: 50%;z-index: 0;}#sk-container-id-1 div.sk-serial {display: flex;flex-direction: column;align-items: center;background-color: white;padding-right: 0.2em;padding-left: 0.2em;position: relative;}#sk-container-id-1 div.sk-item {position: relative;z-index: 1;}#sk-container-id-1 div.sk-parallel {display: flex;align-items: stretch;justify-content: center;background-color: white;position: relative;}#sk-container-id-1 div.sk-item::before, #sk-container-id-1 div.sk-parallel-item::before {content: \"\";position: absolute;border-left: 1px solid gray;box-sizing: border-box;top: 0;bottom: 0;left: 50%;z-index: -1;}#sk-container-id-1 div.sk-parallel-item {display: flex;flex-direction: column;z-index: 1;position: relative;background-color: white;}#sk-container-id-1 div.sk-parallel-item:first-child::after {align-self: flex-end;width: 50%;}#sk-container-id-1 div.sk-parallel-item:last-child::after {align-self: flex-start;width: 50%;}#sk-container-id-1 div.sk-parallel-item:only-child::after {width: 0;}#sk-container-id-1 div.sk-dashed-wrapped {border: 1px dashed gray;margin: 0 0.4em 0.5em 0.4em;box-sizing: border-box;padding-bottom: 0.4em;background-color: white;}#sk-container-id-1 div.sk-label label {font-family: monospace;font-weight: bold;display: inline-block;line-height: 1.2em;}#sk-container-id-1 div.sk-label-container {text-align: center;}#sk-container-id-1 div.sk-container {/* jupyter's `normalize.less` sets `[hidden] { display: none; }` but bootstrap.min.css set `[hidden] { display: none !important; }` so we also need the `!important` here to be able to override the default hidden behavior on the sphinx rendered scikit-learn.org. See: https://github.com/scikit-learn/scikit-learn/issues/21755 */display: inline-block !important;position: relative;}#sk-container-id-1 div.sk-text-repr-fallback {display: none;}</style><div id=\"sk-container-id-1\" class=\"sk-top-container\"><div class=\"sk-text-repr-fallback\"><pre>XGBClassifier(base_score=0.5, booster=&#x27;gbtree&#x27;, callbacks=None,\n",
       "              colsample_bylevel=1, colsample_bynode=1, colsample_bytree=1,\n",
       "              early_stopping_rounds=None, enable_categorical=False,\n",
       "              eta=0.17852609898403116, eval_metric=&#x27;auc&#x27;, gamma=0, gpu_id=-1,\n",
       "              grow_policy=&#x27;depthwise&#x27;, importance_type=None,\n",
       "              interaction_constraints=&#x27;&#x27;, learning_rate=0.178526103,\n",
       "              max_bin=256, max_cat_to_onehot=4, max_delta_step=0, max_depth=13,\n",
       "              max_leaves=0, min_child_weight=1, missing=nan,\n",
       "              monotone_constraints=&#x27;()&#x27;, n_estimators=67, n_jobs=0,\n",
       "              num_parallel_tree=1, predictor=&#x27;auto&#x27;, random_state=42,\n",
       "              reg_alpha=0, ...)</pre><b>In a Jupyter environment, please rerun this cell to show the HTML representation or trust the notebook. <br />On GitHub, the HTML representation is unable to render, please try loading this page with nbviewer.org.</b></div><div class=\"sk-container\" hidden><div class=\"sk-item\"><div class=\"sk-estimator sk-toggleable\"><input class=\"sk-toggleable__control sk-hidden--visually\" id=\"sk-estimator-id-1\" type=\"checkbox\" checked><label for=\"sk-estimator-id-1\" class=\"sk-toggleable__label sk-toggleable__label-arrow\">XGBClassifier</label><div class=\"sk-toggleable__content\"><pre>XGBClassifier(base_score=0.5, booster=&#x27;gbtree&#x27;, callbacks=None,\n",
       "              colsample_bylevel=1, colsample_bynode=1, colsample_bytree=1,\n",
       "              early_stopping_rounds=None, enable_categorical=False,\n",
       "              eta=0.17852609898403116, eval_metric=&#x27;auc&#x27;, gamma=0, gpu_id=-1,\n",
       "              grow_policy=&#x27;depthwise&#x27;, importance_type=None,\n",
       "              interaction_constraints=&#x27;&#x27;, learning_rate=0.178526103,\n",
       "              max_bin=256, max_cat_to_onehot=4, max_delta_step=0, max_depth=13,\n",
       "              max_leaves=0, min_child_weight=1, missing=nan,\n",
       "              monotone_constraints=&#x27;()&#x27;, n_estimators=67, n_jobs=0,\n",
       "              num_parallel_tree=1, predictor=&#x27;auto&#x27;, random_state=42,\n",
       "              reg_alpha=0, ...)</pre></div></div></div></div></div>"
      ],
      "text/plain": [
       "XGBClassifier(base_score=0.5, booster='gbtree', callbacks=None,\n",
       "              colsample_bylevel=1, colsample_bynode=1, colsample_bytree=1,\n",
       "              early_stopping_rounds=None, enable_categorical=False,\n",
       "              eta=0.17852609898403116, eval_metric='auc', gamma=0, gpu_id=-1,\n",
       "              grow_policy='depthwise', importance_type=None,\n",
       "              interaction_constraints='', learning_rate=0.178526103,\n",
       "              max_bin=256, max_cat_to_onehot=4, max_delta_step=0, max_depth=13,\n",
       "              max_leaves=0, min_child_weight=1, missing=nan,\n",
       "              monotone_constraints='()', n_estimators=67, n_jobs=0,\n",
       "              num_parallel_tree=1, predictor='auto', random_state=42,\n",
       "              reg_alpha=0, ...)"
      ]
     },
     "execution_count": 28,
     "metadata": {},
     "output_type": "execute_result"
    }
   ],
   "source": [
    "# Instanciation a model with the best hyperparameters\n",
    "best_model = XGBClassifier(random_state=42,\n",
    "                      use_label_encoder=False,\n",
    "                      eval_metric='auc',\n",
    "                      **study.best_params)\n",
    "\n",
    " \n",
    "# Training on all the training set\n",
    "best_model.fit(X, y)\n"
   ]
  },
  {
   "cell_type": "markdown",
   "id": "b213e902",
   "metadata": {},
   "source": [
    "F - Prédiction sur le jeu de test"
   ]
  },
  {
   "cell_type": "code",
   "execution_count": 29,
   "id": "d2bb8628",
   "metadata": {},
   "outputs": [
    {
     "name": "stdout",
     "output_type": "stream",
     "text": [
      "======= L'encodage des variables catégorielles est terminée ! =======\n",
      "0.6814064801178203\n",
      "CPU times: user 39.1 ms, sys: 7.7 ms, total: 46.8 ms\n",
      "Wall time: 35.5 ms\n"
     ]
    }
   ],
   "source": [
    "%%time\n",
    "# Pré-traitements sur le jeu de test\n",
    "X_test, y_test = preprocessor(df_test, config, option_train='test', option_output=None)\n",
    "# Evaluation on the test set <--- Pour mon chef !!!\n",
    "y_pred = best_model.predict(X_test)\n",
    "score = sklearn.metrics.roc_auc_score(y_test, y_pred)\n",
    "\n",
    "print(score)"
   ]
  },
  {
   "cell_type": "markdown",
   "id": "1f50d764",
   "metadata": {},
   "source": [
    "G - Calibration du modèle \n"
   ]
  },
  {
   "cell_type": "code",
   "execution_count": 30,
   "id": "a5577201",
   "metadata": {},
   "outputs": [
    {
     "name": "stdout",
     "output_type": "stream",
     "text": [
      "======= L'encodage des variables catégorielles est terminée ! =======\n",
      "CPU times: user 17.4 ms, sys: 2.65 ms, total: 20 ms\n",
      "Wall time: 21.6 ms\n"
     ]
    }
   ],
   "source": [
    "%%time\n",
    "\n",
    "# Pré-traitements sur le jeu de calibration\n",
    "X_cal, y_cal = preprocessor(df_cal, config, option_train='calibration', option_output=None)"
   ]
  },
  {
   "cell_type": "code",
   "execution_count": 31,
   "id": "02dc3a19",
   "metadata": {},
   "outputs": [
    {
     "data": {
      "image/png": "[encoded data removed]",
      "text/plain": [
       "<Figure size 432x288 with 1 Axes>"
      ]
     },
     "metadata": {
      "needs_background": "light"
     },
     "output_type": "display_data"
    }
   ],
   "source": [
    "# Calibrate the best model with a sigmoïd \n",
    "best_model_calibrated = CalibratedClassifierCV(best_model, cv=\"prefit\", method=\"sigmoid\")\n",
    "best_model_calibrated.fit(X_cal, y_cal)\n",
    "# Prediction on calibration data\n",
    "# With non calibrated model\n",
    "y_pred_non_calib = best_model.predict_proba(X_cal)[:, 1]\n",
    "# With calibrated model\n",
    "y_pred_calib = best_model_calibrated.predict_proba(X_cal)[:, 1]\n",
    "\n",
    "fractionsNorm, meansNorm = calibration_curve(y_cal, y_pred_non_calib, n_bins=50, strategy='quantile')\n",
    "fractionsCal, meansCal = calibration_curve(y_cal, y_pred_calib, n_bins=50, strategy='quantile')\n",
    "\n",
    "plt.figure()\n",
    "plt.grid()\n",
    "plt.plot(fractionsNorm, meansNorm, label=\"Normal\", linewidth=1.5)\n",
    "plt.plot(fractionsCal, meansCal, label=\"Calibré\", linewidth=1.5)\n",
    "plt.plot([0, 1], [0, 1], 'b--', label=\"Parfaitement calibré\", linewidth=1.2)\n",
    "plt.xlabel(\"Moyenne des prédictions du modèle\", fontsize=14)\n",
    "plt.ylabel(\"Probabilités empiriques\", fontsize=14)\n",
    "plt.legend(loc=\"lower right\", fontsize=10)\n",
    "plt.title(\"Calibration de l'arbre de décision\", fontsize=16)\n",
    "\n",
    "#plt.savefig(\"figures/figure3.png\")\n",
    "\n",
    "plt.show()"
   ]
  },
  {
   "cell_type": "code",
   "execution_count": 32,
   "id": "7705ca00",
   "metadata": {},
   "outputs": [
    {
     "data": {
      "image/png": "[encoded data removed]",
      "text/plain": [
       "<Figure size 432x288 with 1 Axes>"
      ]
     },
     "metadata": {
      "needs_background": "light"
     },
     "output_type": "display_data"
    }
   ],
   "source": [
    "# Calibrate the best model with an Isotonic regression\n",
    "best_model_calibrated = CalibratedClassifierCV(best_model, cv=\"prefit\", method=\"isotonic\")\n",
    "best_model_calibrated.fit(X_cal, y_cal)\n",
    "# Prediction on calibration data\n",
    "# With non calibrated model\n",
    "y_pred_non_calib = best_model.predict_proba(X_cal)[:, 1]\n",
    "# With calibrated model\n",
    "y_pred_calib = best_model_calibrated.predict_proba(X_cal)[:, 1]\n",
    "\n",
    "fractionsNorm, meansNorm = calibration_curve(y_cal, y_pred_non_calib, n_bins=50, strategy='quantile')\n",
    "fractionsCal, meansCal = calibration_curve(y_cal, y_pred_calib, n_bins=50, strategy='quantile')\n",
    "\n",
    "plt.figure()\n",
    "plt.grid()\n",
    "plt.plot(fractionsNorm, meansNorm, label=\"Normal\", linewidth=1.5)\n",
    "plt.plot(fractionsCal, meansCal, label=\"Calibré\", linewidth=1.5)\n",
    "plt.plot([0, 1], [0, 1], 'b--', label=\"Parfaitement calibré\", linewidth=1.2)\n",
    "plt.xlabel(\"Moyenne des prédictions du modèle\", fontsize=14)\n",
    "plt.ylabel(\"Probabilités empiriques\", fontsize=14)\n",
    "plt.legend(loc=\"lower right\", fontsize=10)\n",
    "plt.title(\"Calibration de l'arbre de décision\", fontsize=16)\n",
    "\n",
    "plt.show()"
   ]
  },
  {
   "cell_type": "markdown",
   "id": "8b6c058f",
   "metadata": {},
   "source": [
    "<div style=\"color: blue\"> Conclusion: <div/>\n",
    "<p style=\"color: black\"> Le modèle de régression isotonic est le meilleur pour la calibration sur ce jeu de données. C'est lui que nous adopterons pour la suite.</p>"
   ]
  },
  {
   "cell_type": "markdown",
   "id": "7cb89834",
   "metadata": {},
   "source": [
    "H - Importances des variables dans le modèle"
   ]
  },
  {
   "cell_type": "code",
   "execution_count": 33,
   "id": "003ee5de",
   "metadata": {},
   "outputs": [
    {
     "name": "stdout",
     "output_type": "stream",
     "text": [
      "1  -  Contract ---------->  0.20306286\n",
      "2  -  OnlineSecurity ---------->  0.0625211\n",
      "3  -  TechSupport ---------->  0.052013386\n",
      "4  -  PhoneService ---------->  0.051892832\n",
      "5  -  tenure ---------->  0.049153324\n",
      "6  -  InternetService ---------->  0.047257874\n",
      "7  -  MonthlyCharges ---------->  0.045476947\n",
      "8  -  TotalCharges ---------->  0.044748556\n",
      "9  -  MultipleLines ---------->  0.044193693\n",
      "10  -  StreamingMovies ---------->  0.04300323\n",
      "11  -  Dependents ---------->  0.042997837\n",
      "12  -  SeniorCitizen ---------->  0.042612914\n",
      "13  -  StreamingTV ---------->  0.040910617\n",
      "14  -  PaymentMethod ---------->  0.040609863\n",
      "15  -  DeviceProtection ---------->  0.04011529\n",
      "16  -  OnlineBackup ---------->  0.039517596\n",
      "17  -  PaperlessBilling ---------->  0.039149646\n",
      "18  -  Partner ---------->  0.03594692\n",
      "19  -  gender ---------->  0.03481557\n"
     ]
    }
   ],
   "source": [
    "importances_variables = best_model.feature_importances_\n",
    "columns = config['data']['categorical']+config['data']['numerical']\n",
    "paires_triees = sorted(zip(columns, importances_variables), key=lambda pair: pair[1],reverse=True)\n",
    "colonnes_triees = []\n",
    "importances_triees = []\n",
    "for i, (var, imp) in enumerate(paires_triees):\n",
    "    colonnes_triees.append(var)\n",
    "    importances_triees.append(imp)\n",
    "    print(i+1, ' - ', var, '----------> ', imp)"
   ]
  },
  {
   "cell_type": "code",
   "execution_count": 34,
   "id": "571d2ae0",
   "metadata": {},
   "outputs": [
    {
     "data": {
      "image/png": "[encoded data removed]",
      "text/plain": [
       "<Figure size 720x720 with 1 Axes>"
      ]
     },
     "metadata": {
      "needs_background": "light"
     },
     "output_type": "display_data"
    }
   ],
   "source": [
    "# Graphs\n",
    "top = 10\n",
    "plt.figure(figsize=(10, 10))\n",
    "plt.grid()\n",
    "plt.barh(colonnes_triees[0:top][::-1], importances_triees[0:top][::-1], color='#e77f67')\n",
    "plt.title('Features importances')\n",
    "plt.ylabel('Features')\n",
    "plt.show('Importance in percentage (%) ')"
   ]
  },
  {
   "cell_type": "code",
   "execution_count": null,
   "id": "2ff2b16c",
   "metadata": {},
   "outputs": [],
   "source": []
  },
  {
   "cell_type": "code",
   "execution_count": null,
   "id": "90501afb",
   "metadata": {},
   "outputs": [],
   "source": []
  },
  {
   "cell_type": "code",
   "execution_count": 35,
   "id": "34ff7df9",
   "metadata": {},
   "outputs": [],
   "source": [
    "# First Partie: DATA SCIENCE\n",
    "\n",
    "# Faire l'exploration des données\n",
    "# Expliquer les différents modèles utilisés (arbre de décision, random forest, Gradient Boosting)\n",
    "# Tester plusieurs algorithmes\n",
    "# Choisir le meilleur et le rendre plus précis\n",
    "# Calibrer le modèle final\n",
    "# Afficher la matrice de confusion\n",
    "# Sauvegarder le modèle\n",
    "# Créer une fonction d'inférence\n",
    "\n",
    "# Second Part: ML ENGINEER\n",
    "\n",
    "# Create a flask endpoint for to serve the model\n",
    "# Packager the model with Docker \n",
    "# Create an infra on GCP to deploy the model\n",
    "# Deploy the model on GKE\n",
    "\n",
    "# Test the code (Unit tests and Integration tests)\n",
    "# Test the Api\n",
    "# Test the data\n",
    "# Create a CI/CD pipeline for the project with github actions\n",
    "# Create a Makefile\n",
    "# Create a logging system for the project\n",
    "# Create a pre-commit hook\n",
    "# Use arguments parser\n",
    "# Create a readme for the project\n",
    "\n",
    "# Third Part: WEB\n",
    "\n",
    "# Develop a web interface to perform prediction on this for this project\n",
    "# Connect to the back\n"
   ]
  },
  {
   "cell_type": "code",
   "execution_count": null,
   "id": "f06d56a0",
   "metadata": {},
   "outputs": [],
   "source": []
  }
 ],
 "metadata": {
  "kernelspec": {
   "display_name": "Python 3 (ipykernel)",
   "language": "python",
   "name": "python3"
  },
  "language_info": {
   "codemirror_mode": {
    "name": "ipython",
    "version": 3
   },
   "file_extension": ".py",
   "mimetype": "text/x-python",
   "name": "python",
   "nbconvert_exporter": "python",
   "pygments_lexer": "ipython3",
   "version": "3.8.13"
  }
 },
 "nbformat": 4,
 "nbformat_minor": 5
}
